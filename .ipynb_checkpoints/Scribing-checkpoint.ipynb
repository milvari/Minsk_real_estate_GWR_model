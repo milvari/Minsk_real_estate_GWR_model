{
 "cells": [
  {
   "cell_type": "code",
   "execution_count": 1,
   "id": "6670295c",
   "metadata": {},
   "outputs": [],
   "source": [
    "# Scribing a data - real estate, Minsk, 2022. Source: Realt.by"
   ]
  },
  {
   "cell_type": "code",
   "execution_count": 1,
   "id": "a6daf988",
   "metadata": {},
   "outputs": [],
   "source": [
    "import requests\n",
    "from bs4 import BeautifulSoup\n",
    "from time import sleep\n",
    "import pandas as pd"
   ]
  },
  {
   "cell_type": "code",
   "execution_count": 75,
   "id": "d67a6507",
   "metadata": {},
   "outputs": [],
   "source": [
    "url = 'https://realt.by/sale/flats/?search=eJwryS%2FPi89LzE1VNXXKycwGUi5AlgGQslV1MVC1dAaRThZg0kXVxVDVwhDMdlSLL04tKS0AKi5KTY4vSC2KL0hMB2m3NTUAAACpF9w%3D&page=1'\n",
    "\n",
    "r = requests.get(url)\n",
    "r.text;"
   ]
  },
  {
   "cell_type": "code",
   "execution_count": 76,
   "id": "509b7cdc",
   "metadata": {},
   "outputs": [],
   "source": [
    "soup = BeautifulSoup(r.text, 'lxml')\n",
    "soup;"
   ]
  },
  {
   "cell_type": "code",
   "execution_count": 77,
   "id": "334a1938",
   "metadata": {},
   "outputs": [
    {
     "data": {
      "text/plain": [
       "<div class=\"listing-item highlighted\" data-mode=\"3\" data-page=\"1\" data-region=\"0\">\n",
       "<div class=\"highlight-icon special-icon\">\n",
       "<img alt=\"Спецпредложение\" src=\"https://realt.by/fileadmin/realt.adaptive/images/highlight-icons/special.svg\"/>\n",
       "</div>\n",
       "<div class=\"teaser-tile teaser-tile-left\">\n",
       "<a class=\"favorite\" href=\"javascript:void(0);\" onclick=\"bm(this); return false;\" title=\"Добавить в Избранное\">\n",
       "<i aria-hidden=\"true\" class=\"fa fa-heart-o\"></i>\n",
       "</a>\n",
       "<div class=\"bmcontainer\" content='{\"code\":\"2897259\",\"table_id\":\"1\",\"group_id\":\"1\"}' style=\"display:none;\"></div>\n",
       "<a class=\"image mb-0\" href=\"https://realt.by/sale/flats/object/2897259/\" target=\"_blank\" title='Евродвушка в современном ЖК \"MinskWorld\"'>\n",
       "<img alt='Евродвушка в современном ЖК \"MinskWorld\"' class=\"lazy\" data-original=\"https://static.realt.by/thumb/c/600x450/8a3bab9ac11ccfc722d832ac5ff644cc/sd/5/site1ktk25sd/0ee142b5ba.jpg\" src=\"https://realt.by/fileadmin/realt.adaptive/images/no-photo/600x450.png\"/>\n",
       "</a>\n",
       "<div class=\"desc-mini desc-mini-top\">\n",
       "<div class=\"color-graydark\">\n",
       "<span>\n",
       "\t\t\t\t\t\t\t\t\t\t\t\t\t\t\t\t\t\t\t\t\t\t\t\t\t\t\t\t\t\tОктябрьский район,\t\t\t\t\t\t\t\t\t\t\t\t\t\t\t\t\t\t\t\t\t\t\t\t\t\t\t\t\t\t\t\t\t\t\t\t\t\t</span>\n",
       "\t\t\t\t\t\t\t\tМинск, Игоря Лученка ул., 12-3\n",
       "\t\t\t\t\t\t\t</div>\n",
       "<div class=\"metro-green\">\n",
       "\t\t\t\t\t\t\t\t\t\tАэродромная (2023)\n",
       "\t\t\t\t\t\t\t\t\t</div>\n",
       "<div class=\"info\">\n",
       "<span>\n",
       "                    2-комн.\n",
       "            </span>\n",
       "<span>40.75 м<sup>2</sup></span> <span>22/25 этаж</span>\n",
       "</div>\n",
       "</div>\n",
       "<div class=\"desc-mini desc-mini-bottom\">\n",
       "<div class=\"row no-gutters align-items-center color-black fs-huge\">\n",
       "<div class=\"col-auto text-truncate\" data-toggle=\"tooltip\" title=\"104 265 BYN\">\n",
       "<strong>104 265 BYN</strong>\n",
       "</div>\n",
       "</div>\n",
       "<div class=\"row no-gutters align-items-center color-dark\">\n",
       "<div class=\"col-auto text-truncate\" data-toggle=\"tooltip\" title=\"Цены в валюте указаны справочно по курсу Национального банка на сегодняшнюю дату. Цена:\n",
       "                    41 793 USD\n",
       "        \">\n",
       "</div>\n",
       "<a class=\"col-auto price-switchable\" data-643=\"2 596 374 RUB\" data-840=\"41 793 USD\" data-933=\"\" data-978=\"42 788 EUR\" data-content=\"2 596 374 RUB&lt;br&gt;104 265 BYN&lt;br&gt;41 793 USD&lt;br&gt;42 788 EUR&lt;br&gt;\" data-html=\"true\" data-placement=\"top\" data-toggle=\"popover\" data-trigger=\"hover\" role=\"button\" tabindex=\"0\">\n",
       "<img alt=\"Валюта\" class=\"d-block ml-6\" src=\"https://realt.by/fileadmin/realt.adaptive/images/svg-icons/currency.svg\"/>\n",
       "</a>\n",
       "</div>\n",
       "<div>\n",
       "<noindex>\n",
       "<a class=\"fin-service-link\" data-buildingyear=\"2024\" data-exceptionobjectid=\"2897259\" data-obdnuuid=\"fe6865f4-ff4c-11eb-926c-dee111c4eff3\" data-objectpricescurrency-1=\"41 793\" data-objectpricescurrency-2=\"104 265\" data-objectpricescurrency-3=\"42 788\" data-objectpricescurrency-4=\"2 596 374\" data-productcategory=\"sale_flats\" data-stateregionid=\"5\" data-townid=\"5102\" href=\"https://realt.by/sale/flats/object/2897259/#fin-block\" style=\"display: none;\"></a>\n",
       "</noindex>\n",
       "</div>\n",
       "</div>\n",
       "</div>\n",
       "<div class=\"teaser-tile teaser-tile-right\">\n",
       "<div class=\"desc\">\n",
       "<div class=\"info-mini color-graydark\">\n",
       "<span class=\"pictures\">7</span> <span class=\"views\">189</span> <span>04.11.2022</span>\n",
       "<span class=\"flex-grow-1 justify-content-md-end\">ID 2897259</span>\n",
       "</div>\n",
       "<a class=\"teaser-title\" href=\"https://realt.by/sale/flats/object/2897259/\" target=\"_blank\" title='Евродвушка в современном ЖК \"MinskWorld\"'>\n",
       "\t\t\t\t\t\t\t\tЕвродвушка в современном ЖК \"MinskWorld\"\n",
       "\t\t\t\t\t\t\t</a>\n",
       "<div class=\"location color-graydark\">\n",
       "\t\t\t\t\t\t\t\t\t\t\t\t\t\t\t\t\tг. Минск, ул. Игоря Лученка, д.12/3 (Октябрьский район)\n",
       "\t\t\t\t\t\t\t\t\t\t\t\t\t\t\t</div>\n",
       "<div class=\"metro-green\">\n",
       "\t\t\t\t\t\t\t\t\t\tАэродромная (2023)\n",
       "\t\t\t\t\t\t\t\t\t</div>\n",
       "<div class=\"info-large\">\n",
       "<span>\n",
       "                    2-комн.\n",
       "            </span>\n",
       "<span>40.75 м<sup>2</sup></span> <span>22/25 этаж</span>\n",
       "</div>\n",
       "<div class=\"info-text info-more\">\n",
       "<div class=\"fs-small color-dark\">\n",
       "<p><strong>22/25</strong> каркасно-блочный, площадь 40,75/32/8, лоджия, год постройки 2024, Стеклопакеты, счетчики воды, свободная планировка, новостройка. 260 кв</p>\n",
       "</div>\n",
       "</div>\n",
       "</div>\n",
       "<div class=\"contacts\">\n",
       "<div class=\"logo\">\n",
       "<img alt=\"ЭТАЖИ форте\" src=\"https://realt.by/typo3temp/pics/b9/bf/b9bfe1857efb0ab462d9b89987740fc5.png\"/>\n",
       "</div>\n",
       "<div class=\"info\">\n",
       "<div class=\"seller\">\n",
       "<span class=\"color-graydark\">\n",
       "\t\t\t\t\t\t\t\t\t\t\tЭТАЖИ форте\n",
       "\t\t\t\t\t\t\t\t\t\t</span>\n",
       "</div>\n",
       "<a class=\"phone-preview\" href=\"https://realt.by/sale/flats/object/2897259/#phones\" onclick=\"dataLayer.push({'event': 'click-phone-list', 'code': 2897259});\" target=\"_blank\" title='Евродвушка в современном ЖК \"MinskWorld\"'>\n",
       "<span class=\"color-black\">+375 44 790-04-... </span>\n",
       "</a>\n",
       "</div>\n",
       "</div>\n",
       "</div>\n",
       "</div>"
      ]
     },
     "execution_count": 77,
     "metadata": {},
     "output_type": "execute_result"
    }
   ],
   "source": [
    "# soup.findAll('div', class_='teaser-tile teaser-tile-right')\n",
    "soup.find('div', class_='listing-item highlighted')"
   ]
  },
  {
   "cell_type": "code",
   "execution_count": 105,
   "id": "761b0473",
   "metadata": {},
   "outputs": [
    {
     "data": {
      "text/plain": [
       "'г. Минск, ул. Берута, д.9/3 (Фрунзенский район)'"
      ]
     },
     "execution_count": 105,
     "metadata": {},
     "output_type": "execute_result"
    }
   ],
   "source": [
    "adr = soup.find('div', class_='listing-item highlighted').find('div', class_='location color-graydark').text.strip()\n",
    "adr"
   ]
  },
  {
   "cell_type": "code",
   "execution_count": 110,
   "id": "7a730059",
   "metadata": {},
   "outputs": [
    {
     "data": {
      "text/plain": [
       "<div class=\"col-auto text-truncate\" data-toggle=\"tooltip\" title=\"623 700 BYN\">\n",
       "<strong>623 700 BYN</strong>\n",
       "</div>"
      ]
     },
     "execution_count": 110,
     "metadata": {},
     "output_type": "execute_result"
    }
   ],
   "source": [
    "# curancy - /2.4935\n",
    "price = soup.find('div', class_='listing-item highlighted').find('div', class_='col-auto text-truncate').\n",
    "price"
   ]
  },
  {
   "cell_type": "code",
   "execution_count": 101,
   "id": "06ae0d17",
   "metadata": {},
   "outputs": [
    {
     "data": {
      "text/plain": [
       "'3-комн.'"
      ]
     },
     "execution_count": 101,
     "metadata": {},
     "output_type": "execute_result"
    }
   ],
   "source": [
    "rooms = soup.find('div', class_='listing-item highlighted').find('div', class_='info-large').findAll('span')[0].text.strip()\n",
    "rooms"
   ]
  },
  {
   "cell_type": "code",
   "execution_count": 83,
   "id": "6b1f8021",
   "metadata": {},
   "outputs": [
    {
     "data": {
      "text/plain": [
       "'40.75 м2'"
      ]
     },
     "execution_count": 83,
     "metadata": {},
     "output_type": "execute_result"
    }
   ],
   "source": [
    "area = soup.find('div', class_='listing-item highlighted').find('div', class_='info-large').findAll('span')[1].text\n",
    "area"
   ]
  },
  {
   "cell_type": "code",
   "execution_count": 84,
   "id": "5fb09ece",
   "metadata": {},
   "outputs": [
    {
     "data": {
      "text/plain": [
       "'22/25 этаж'"
      ]
     },
     "execution_count": 84,
     "metadata": {},
     "output_type": "execute_result"
    }
   ],
   "source": [
    "floor = soup.find('div', class_='listing-item highlighted').find('div', class_='info-large').findAll('span')[2].text\n",
    "floor"
   ]
  },
  {
   "cell_type": "code",
   "execution_count": 99,
   "id": "10b06379",
   "metadata": {},
   "outputs": [
    {
     "data": {
      "text/plain": [
       "'4/5 панельный, площадь 48,50/35,10/5,80, лоджия застекленная, год постройки 1967, Мебель, стеклопакеты, бытовая техника, подвал, готова к проживанию.'"
      ]
     },
     "execution_count": 99,
     "metadata": {},
     "output_type": "execute_result"
    }
   ],
   "source": [
    "items = soup.find('div', class_='listing-item highlighted').find('div', class_='info-text info-more').text.strip()\n",
    "items"
   ]
  },
  {
   "cell_type": "code",
   "execution_count": 68,
   "id": "6e4db1c9",
   "metadata": {},
   "outputs": [],
   "source": [
    "estate = soup.findAll('div', class_='listing-item highlighted')"
   ]
  },
  {
   "cell_type": "code",
   "execution_count": 8,
   "id": "ba8057a5",
   "metadata": {},
   "outputs": [
    {
     "name": "stdout",
     "output_type": "stream",
     "text": [
      "1\n",
      "2\n",
      "3\n",
      "4\n",
      "5\n",
      "6\n",
      "7\n",
      "8\n",
      "9\n",
      "10\n",
      "11\n",
      "12\n",
      "13\n",
      "14\n",
      "15\n",
      "16\n",
      "17\n",
      "18\n",
      "19\n",
      "20\n",
      "21\n",
      "22\n",
      "23\n",
      "24\n",
      "25\n",
      "26\n",
      "27\n",
      "28\n",
      "29\n",
      "30\n",
      "31\n",
      "32\n",
      "33\n",
      "34\n",
      "35\n",
      "36\n",
      "37\n",
      "38\n",
      "39\n",
      "40\n",
      "41\n",
      "42\n",
      "43\n",
      "44\n",
      "45\n",
      "46\n",
      "47\n",
      "48\n",
      "49\n",
      "50\n",
      "51\n",
      "52\n",
      "53\n",
      "54\n",
      "55\n",
      "56\n",
      "57\n",
      "58\n",
      "59\n",
      "60\n",
      "61\n",
      "62\n",
      "63\n",
      "64\n",
      "65\n",
      "66\n",
      "67\n"
     ]
    },
    {
     "ename": "IndexError",
     "evalue": "list index out of range",
     "output_type": "error",
     "traceback": [
      "\u001b[0;31m---------------------------------------------------------------------------\u001b[0m",
      "\u001b[0;31mIndexError\u001b[0m                                Traceback (most recent call last)",
      "Cell \u001b[0;32mIn [8], line 19\u001b[0m\n\u001b[1;32m     17\u001b[0m rooms \u001b[38;5;241m=\u001b[39m i\u001b[38;5;241m.\u001b[39mfind(\u001b[38;5;124m'\u001b[39m\u001b[38;5;124mdiv\u001b[39m\u001b[38;5;124m'\u001b[39m, class_\u001b[38;5;241m=\u001b[39m\u001b[38;5;124m'\u001b[39m\u001b[38;5;124minfo-large\u001b[39m\u001b[38;5;124m'\u001b[39m)\u001b[38;5;241m.\u001b[39mfindAll(\u001b[38;5;124m'\u001b[39m\u001b[38;5;124mspan\u001b[39m\u001b[38;5;124m'\u001b[39m)[\u001b[38;5;241m0\u001b[39m]\u001b[38;5;241m.\u001b[39mtext\u001b[38;5;241m.\u001b[39mstrip()\n\u001b[1;32m     18\u001b[0m area \u001b[38;5;241m=\u001b[39m i\u001b[38;5;241m.\u001b[39mfind(\u001b[38;5;124m'\u001b[39m\u001b[38;5;124mdiv\u001b[39m\u001b[38;5;124m'\u001b[39m, class_\u001b[38;5;241m=\u001b[39m\u001b[38;5;124m'\u001b[39m\u001b[38;5;124minfo-large\u001b[39m\u001b[38;5;124m'\u001b[39m)\u001b[38;5;241m.\u001b[39mfindAll(\u001b[38;5;124m'\u001b[39m\u001b[38;5;124mspan\u001b[39m\u001b[38;5;124m'\u001b[39m)[\u001b[38;5;241m1\u001b[39m]\u001b[38;5;241m.\u001b[39mtext\u001b[38;5;241m.\u001b[39mstrip()\n\u001b[0;32m---> 19\u001b[0m floor \u001b[38;5;241m=\u001b[39m \u001b[43mi\u001b[49m\u001b[38;5;241;43m.\u001b[39;49m\u001b[43mfind\u001b[49m\u001b[43m(\u001b[49m\u001b[38;5;124;43m'\u001b[39;49m\u001b[38;5;124;43mdiv\u001b[39;49m\u001b[38;5;124;43m'\u001b[39;49m\u001b[43m,\u001b[49m\u001b[43m \u001b[49m\u001b[43mclass_\u001b[49m\u001b[38;5;241;43m=\u001b[39;49m\u001b[38;5;124;43m'\u001b[39;49m\u001b[38;5;124;43minfo-large\u001b[39;49m\u001b[38;5;124;43m'\u001b[39;49m\u001b[43m)\u001b[49m\u001b[38;5;241;43m.\u001b[39;49m\u001b[43mfindAll\u001b[49m\u001b[43m(\u001b[49m\u001b[38;5;124;43m'\u001b[39;49m\u001b[38;5;124;43mspan\u001b[39;49m\u001b[38;5;124;43m'\u001b[39;49m\u001b[43m)\u001b[49m\u001b[43m[\u001b[49m\u001b[38;5;241;43m2\u001b[39;49m\u001b[43m]\u001b[49m\u001b[38;5;241m.\u001b[39mtext\u001b[38;5;241m.\u001b[39mstrip()\n\u001b[1;32m     20\u001b[0m items \u001b[38;5;241m=\u001b[39m i\u001b[38;5;241m.\u001b[39mfind(\u001b[38;5;124m'\u001b[39m\u001b[38;5;124mdiv\u001b[39m\u001b[38;5;124m'\u001b[39m, class_\u001b[38;5;241m=\u001b[39m\u001b[38;5;124m'\u001b[39m\u001b[38;5;124minfo-text info-more\u001b[39m\u001b[38;5;124m'\u001b[39m)\u001b[38;5;241m.\u001b[39mtext\u001b[38;5;241m.\u001b[39mstrip()\n\u001b[1;32m     22\u001b[0m data\u001b[38;5;241m.\u001b[39mappend([adr, price, rooms, area, floor, items])\n",
      "\u001b[0;31mIndexError\u001b[0m: list index out of range"
     ]
    }
   ],
   "source": [
    "data = []\n",
    "\n",
    "for p in range(1,100):\n",
    "    print (p)\n",
    "    \n",
    "    url = f'https://realt.by/sale/flats/?search=eJwryS%2FPi89LzE1VNXXKycwGUi5AlgGQslV1MVC1dAaRThZg0kXVxVDVwhDMdlQrSS3KLQaqTYWoBcqYq8UXp5aUFgAFi1KT4wtSi%2BILEtPB8sYGAPZZHTU%3D&page={p}'\n",
    "    r = requests.get(url)\n",
    "    sleep(3)\n",
    "    soup = BeautifulSoup(r.text, 'lxml')\n",
    "    \n",
    "    estate = soup.findAll('div', class_='listing-item highlighted')\n",
    "    \n",
    "    for i in estate:\n",
    "        adr = i.find('div', class_='location color-graydark').text.strip()\n",
    "        if i.find('div', class_='col-auto text-truncate') is not None:\n",
    "            price = i.find('div', class_='col-auto text-truncate').text.strip()\n",
    "        rooms = i.find('div', class_='info-large').findAll('span')[0].text.strip()\n",
    "        area = i.find('div', class_='info-large').findAll('span')[1].text.strip()\n",
    "        floor = i.find('div', class_='info-large').findAll('span')[2].text.strip()\n",
    "        items = i.find('div', class_='info-text info-more').text.strip()\n",
    "    \n",
    "        data.append([adr, price, rooms, area, floor, items])   "
   ]
  },
  {
   "cell_type": "code",
   "execution_count": 17,
   "id": "f5b14d09",
   "metadata": {},
   "outputs": [],
   "source": [
    "header = ['adr', 'price', 'rooms', 'area', 'floor', 'items']\n",
    "df = pd.DataFrame(data, columns = header)\n",
    "df.to_csv('soup.csv', sep=';')"
   ]
  },
  {
   "cell_type": "code",
   "execution_count": 18,
   "id": "661a2077",
   "metadata": {},
   "outputs": [
    {
     "data": {
      "text/plain": [
       "2000"
      ]
     },
     "execution_count": 18,
     "metadata": {},
     "output_type": "execute_result"
    }
   ],
   "source": [
    "len(data)"
   ]
  },
  {
   "cell_type": "code",
   "execution_count": 25,
   "id": "cfcfeb9b",
   "metadata": {},
   "outputs": [
    {
     "data": {
      "text/html": [
       "<div>\n",
       "<style scoped>\n",
       "    .dataframe tbody tr th:only-of-type {\n",
       "        vertical-align: middle;\n",
       "    }\n",
       "\n",
       "    .dataframe tbody tr th {\n",
       "        vertical-align: top;\n",
       "    }\n",
       "\n",
       "    .dataframe thead th {\n",
       "        text-align: right;\n",
       "    }\n",
       "</style>\n",
       "<table border=\"1\" class=\"dataframe\">\n",
       "  <thead>\n",
       "    <tr style=\"text-align: right;\">\n",
       "      <th></th>\n",
       "      <th>adr</th>\n",
       "      <th>price</th>\n",
       "      <th>rooms</th>\n",
       "      <th>area</th>\n",
       "      <th>floor</th>\n",
       "      <th>items</th>\n",
       "      <th>model_0</th>\n",
       "      <th>model_1</th>\n",
       "      <th>model_2</th>\n",
       "      <th>model_3</th>\n",
       "      <th>...</th>\n",
       "      <th>model_32</th>\n",
       "      <th>model_33</th>\n",
       "      <th>model_34</th>\n",
       "      <th>model_35</th>\n",
       "      <th>model_36</th>\n",
       "      <th>model_37</th>\n",
       "      <th>model_38</th>\n",
       "      <th>model_39</th>\n",
       "      <th>model_40</th>\n",
       "      <th>model_41</th>\n",
       "    </tr>\n",
       "  </thead>\n",
       "  <tbody>\n",
       "    <tr>\n",
       "      <th>1995</th>\n",
       "      <td>г. Минск, ул. Жореса Алфёрова, д.3 (Октябрьски...</td>\n",
       "      <td>115 823 BYN</td>\n",
       "      <td>2-комн.</td>\n",
       "      <td>44.01 м2</td>\n",
       "      <td>2/25 этаж</td>\n",
       "      <td>[2/25 каркасно-блочный,  площадь 44, 01/—/—,  ...</td>\n",
       "      <td>2/25 каркасно-блочный</td>\n",
       "      <td>площадь 44</td>\n",
       "      <td>01/—/—</td>\n",
       "      <td>лоджия застекленная</td>\n",
       "      <td>...</td>\n",
       "      <td></td>\n",
       "      <td></td>\n",
       "      <td></td>\n",
       "      <td></td>\n",
       "      <td></td>\n",
       "      <td></td>\n",
       "      <td></td>\n",
       "      <td></td>\n",
       "      <td></td>\n",
       "      <td></td>\n",
       "    </tr>\n",
       "    <tr>\n",
       "      <th>1996</th>\n",
       "      <td>г. Минск, ул. Жореса Алфёрова, д.3 (Октябрьски...</td>\n",
       "      <td>87 303 BYN</td>\n",
       "      <td>1-комн.</td>\n",
       "      <td>32.57 м2</td>\n",
       "      <td>8/25 этаж</td>\n",
       "      <td>[8/25 каркасно-блочный,  площадь 32, 57/—/—,  ...</td>\n",
       "      <td>8/25 каркасно-блочный</td>\n",
       "      <td>площадь 32</td>\n",
       "      <td>57/—/—</td>\n",
       "      <td>лоджия застекленная</td>\n",
       "      <td>...</td>\n",
       "      <td></td>\n",
       "      <td></td>\n",
       "      <td></td>\n",
       "      <td></td>\n",
       "      <td></td>\n",
       "      <td></td>\n",
       "      <td></td>\n",
       "      <td></td>\n",
       "      <td></td>\n",
       "      <td></td>\n",
       "    </tr>\n",
       "    <tr>\n",
       "      <th>1997</th>\n",
       "      <td>г. Минск, ул. Руссиянова, д.26 (Первомайский р...</td>\n",
       "      <td>62 370 BYN</td>\n",
       "      <td>комната(доля)</td>\n",
       "      <td>51.1 м2</td>\n",
       "      <td>2/9 этаж</td>\n",
       "      <td>[2/9 панельный,  площадь 51, 10/11, 29/7, 06, ...</td>\n",
       "      <td>2/9 панельный</td>\n",
       "      <td>площадь 51</td>\n",
       "      <td>10/11</td>\n",
       "      <td>29/7</td>\n",
       "      <td>...</td>\n",
       "      <td></td>\n",
       "      <td></td>\n",
       "      <td></td>\n",
       "      <td></td>\n",
       "      <td></td>\n",
       "      <td></td>\n",
       "      <td></td>\n",
       "      <td></td>\n",
       "      <td></td>\n",
       "      <td></td>\n",
       "    </tr>\n",
       "    <tr>\n",
       "      <th>1998</th>\n",
       "      <td>г. Минск, ул. Каменногорская, д.102 (Фрунзенск...</td>\n",
       "      <td>169 646 BYN</td>\n",
       "      <td>1-комн.</td>\n",
       "      <td>40.9 м2</td>\n",
       "      <td>4/10 этаж</td>\n",
       "      <td>[4/10 панельный,  площадь 40, 90/17/9,  лоджия...</td>\n",
       "      <td>4/10 панельный</td>\n",
       "      <td>площадь 40</td>\n",
       "      <td>90/17/9</td>\n",
       "      <td>лоджия застекленная</td>\n",
       "      <td>...</td>\n",
       "      <td></td>\n",
       "      <td></td>\n",
       "      <td></td>\n",
       "      <td></td>\n",
       "      <td></td>\n",
       "      <td></td>\n",
       "      <td></td>\n",
       "      <td></td>\n",
       "      <td></td>\n",
       "      <td></td>\n",
       "    </tr>\n",
       "    <tr>\n",
       "      <th>1999</th>\n",
       "      <td>г. Минск, ул. Тикоцкого, д.20 (Первомайский ра...</td>\n",
       "      <td>155 925 BYN</td>\n",
       "      <td>2-комн.</td>\n",
       "      <td>51 м2</td>\n",
       "      <td>6/9 этаж</td>\n",
       "      <td>[Продаётся двухкомнатная квартира. Площадь 51/...</td>\n",
       "      <td>Продаётся двухкомнатная квартира. Площадь 51/31/7</td>\n",
       "      <td>1 м2. Двойная лоджия площадью 7</td>\n",
       "      <td>8 м2. Поставлены новые стеклопакеты</td>\n",
       "      <td>двери в ванной и туалете</td>\n",
       "      <td>...</td>\n",
       "      <td></td>\n",
       "      <td></td>\n",
       "      <td></td>\n",
       "      <td></td>\n",
       "      <td></td>\n",
       "      <td></td>\n",
       "      <td></td>\n",
       "      <td></td>\n",
       "      <td></td>\n",
       "      <td></td>\n",
       "    </tr>\n",
       "  </tbody>\n",
       "</table>\n",
       "<p>5 rows × 48 columns</p>\n",
       "</div>"
      ],
      "text/plain": [
       "                                                    adr        price  \\\n",
       "1995  г. Минск, ул. Жореса Алфёрова, д.3 (Октябрьски...  115 823 BYN   \n",
       "1996  г. Минск, ул. Жореса Алфёрова, д.3 (Октябрьски...   87 303 BYN   \n",
       "1997  г. Минск, ул. Руссиянова, д.26 (Первомайский р...   62 370 BYN   \n",
       "1998  г. Минск, ул. Каменногорская, д.102 (Фрунзенск...  169 646 BYN   \n",
       "1999  г. Минск, ул. Тикоцкого, д.20 (Первомайский ра...  155 925 BYN   \n",
       "\n",
       "              rooms      area      floor  \\\n",
       "1995        2-комн.  44.01 м2  2/25 этаж   \n",
       "1996        1-комн.  32.57 м2  8/25 этаж   \n",
       "1997  комната(доля)   51.1 м2   2/9 этаж   \n",
       "1998        1-комн.   40.9 м2  4/10 этаж   \n",
       "1999        2-комн.     51 м2   6/9 этаж   \n",
       "\n",
       "                                                  items  \\\n",
       "1995  [2/25 каркасно-блочный,  площадь 44, 01/—/—,  ...   \n",
       "1996  [8/25 каркасно-блочный,  площадь 32, 57/—/—,  ...   \n",
       "1997  [2/9 панельный,  площадь 51, 10/11, 29/7, 06, ...   \n",
       "1998  [4/10 панельный,  площадь 40, 90/17/9,  лоджия...   \n",
       "1999  [Продаётся двухкомнатная квартира. Площадь 51/...   \n",
       "\n",
       "                                                model_0  \\\n",
       "1995                              2/25 каркасно-блочный   \n",
       "1996                              8/25 каркасно-блочный   \n",
       "1997                                      2/9 панельный   \n",
       "1998                                     4/10 панельный   \n",
       "1999  Продаётся двухкомнатная квартира. Площадь 51/31/7   \n",
       "\n",
       "                              model_1                              model_2  \\\n",
       "1995                       площадь 44                               01/—/—   \n",
       "1996                       площадь 32                               57/—/—   \n",
       "1997                       площадь 51                                10/11   \n",
       "1998                       площадь 40                              90/17/9   \n",
       "1999  1 м2. Двойная лоджия площадью 7  8 м2. Поставлены новые стеклопакеты   \n",
       "\n",
       "                        model_3  ... model_32 model_33 model_34 model_35  \\\n",
       "1995        лоджия застекленная  ...                                       \n",
       "1996        лоджия застекленная  ...                                       \n",
       "1997                       29/7  ...                                       \n",
       "1998        лоджия застекленная  ...                                       \n",
       "1999   двери в ванной и туалете  ...                                       \n",
       "\n",
       "     model_36 model_37 model_38 model_39 model_40 model_41  \n",
       "1995                                                        \n",
       "1996                                                        \n",
       "1997                                                        \n",
       "1998                                                        \n",
       "1999                                                        \n",
       "\n",
       "[5 rows x 48 columns]"
      ]
     },
     "execution_count": 25,
     "metadata": {},
     "output_type": "execute_result"
    }
   ],
   "source": [
    "df.tail()"
   ]
  },
  {
   "cell_type": "code",
   "execution_count": 20,
   "id": "28d8d0c5",
   "metadata": {},
   "outputs": [],
   "source": [
    "df['items'] = df['items'].str.split(',')\n",
    "df_models = pd.DataFrame(df['items'].tolist()).fillna('').add_prefix('model_')\n",
    "df = pd.concat([df, df_models], axis=1)"
   ]
  },
  {
   "cell_type": "code",
   "execution_count": 26,
   "id": "21d8534b",
   "metadata": {},
   "outputs": [
    {
     "ename": "SyntaxError",
     "evalue": "invalid syntax (3852409369.py, line 1)",
     "output_type": "error",
     "traceback": [
      "\u001b[0;36m  Cell \u001b[0;32mIn [26], line 1\u001b[0;36m\u001b[0m\n\u001b[0;31m    price = df['price'].replace(/[^-.0-9]/g,'');\u001b[0m\n\u001b[0m                                ^\u001b[0m\n\u001b[0;31mSyntaxError\u001b[0m\u001b[0;31m:\u001b[0m invalid syntax\n"
     ]
    }
   ],
   "source": [
    "price = df['price'].replace(/[^-.0-9]/g,'')"
   ]
  },
  {
   "cell_type": "code",
   "execution_count": null,
   "id": "e7b284bd",
   "metadata": {},
   "outputs": [],
   "source": []
  }
 ],
 "metadata": {
  "kernelspec": {
   "display_name": "Python 3 (ipykernel)",
   "language": "python",
   "name": "python3"
  },
  "language_info": {
   "codemirror_mode": {
    "name": "ipython",
    "version": 3
   },
   "file_extension": ".py",
   "mimetype": "text/x-python",
   "name": "python",
   "nbconvert_exporter": "python",
   "pygments_lexer": "ipython3",
   "version": "3.10.6"
  }
 },
 "nbformat": 4,
 "nbformat_minor": 5
}
